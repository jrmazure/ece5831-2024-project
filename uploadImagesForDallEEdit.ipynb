{
 "cells": [
  {
   "cell_type": "code",
   "execution_count": 17,
   "metadata": {},
   "outputs": [],
   "source": [
    "#openai.api_key = 'sk-CAAGYIl6Z8UGMyewffZBV-g_j6edtn3UYIHWIG_4-BT3BlbkFJb7qHTAuw57v_ldA__d1hxjBIasU5Nr98zH6j9-jJsA'"
   ]
  },
  {
   "cell_type": "markdown",
   "metadata": {},
   "source": [
    "# Logic for using OpenAI to send am image with a mask and prompt to get altered results"
   ]
  },
  {
   "cell_type": "code",
   "execution_count": 18,
   "metadata": {},
   "outputs": [],
   "source": [
    "from openai import OpenAI\n",
    "client = OpenAI(api_key = '')\n",
    "\n",
    "def create_dallE_generated_image(input_image_orig, input_image_mask, prompt):\n",
    "  response = client.images.edit(\n",
    "    model=\"dall-e-2\",\n",
    "    image=open(input_image_orig, \"rb\"),\n",
    "    mask=open(input_image_mask, \"rb\"),\n",
    "    prompt=prompt,\n",
    "    n=1,\n",
    "    size=\"512x512\"\n",
    "  )\n",
    "  return response.data[0].url"
   ]
  },
  {
   "cell_type": "code",
   "execution_count": 19,
   "metadata": {},
   "outputs": [],
   "source": [
    "#test image generation\n",
    "#create_dallE_generated_image(\"Images\\\\For_DallE\\\\d155a0d3-8e9b-49d6-9bc0-fb89b15dccf2-nosign.png\", \"Images\\\\Train_DallE\\\\d155a0d3-8e9b-49d6-9bc0-fb89b15dccf2-nosign.png\", \"A red stop sign on a the side of a street\")"
   ]
  },
  {
   "cell_type": "markdown",
   "metadata": {},
   "source": [
    "Download images from link"
   ]
  },
  {
   "cell_type": "code",
   "execution_count": 20,
   "metadata": {},
   "outputs": [],
   "source": [
    "import requests\n",
    "\n",
    "def download_image(link, final_file_name):\n",
    "  # File path to save the image\n",
    "  file_path = final_file_name\n",
    "  # Download the image\n",
    "  response = requests.get(link)\n",
    "  if response.status_code == 200:\n",
    "      with open(file_path, 'wb') as f:\n",
    "          f.write(response.content)\n",
    "      print(f\"Image successfully downloaded to {file_path}\")\n",
    "  else:\n",
    "      print(f\"Failed to download image. Status code: {response.status_code}\")"
   ]
  },
  {
   "cell_type": "code",
   "execution_count": 21,
   "metadata": {},
   "outputs": [
    {
     "name": "stdout",
     "output_type": "stream",
     "text": [
      "Image successfully downloaded to Images\\DallE_Download\\d155a0d3-8e9b-49d6-9bc0-fb89b15dccf2-nosign.png\n",
      "Image successfully downloaded to Images\\DallE_Download\\d4123a75-63b0-4ce8-8f23-1f36ffa05791-nosign.png\n",
      "Image successfully downloaded to Images\\DallE_Download\\dad31239-e01d-4586-97ed-b5313fb4cf3f-nosign.png\n",
      "Image successfully downloaded to Images\\DallE_Download\\dc9b9938-8be1-4fab-a81a-a7207ee2603f-nosign.png\n",
      "Image successfully downloaded to Images\\DallE_Download\\e4df5718-7a9b-4685-8b0a-ce8d4cb762bf-nosign.png\n",
      "Image successfully downloaded to Images\\DallE_Download\\e6500961-7534-49c7-9d51-1581eadc272b-nosign.png\n",
      "Image successfully downloaded to Images\\DallE_Download\\f6cfd49d-993e-425b-a679-1ee951064746-nosign.png\n",
      "Image successfully downloaded to Images\\DallE_Download\\fbd5863f-6414-4f01-9d4d-37977596dda3-nosign.png\n",
      "Image successfully downloaded to Images\\DallE_Download\\ff70e2b9-541f-4e93-bc1c-042927269ba4-nosign.png\n"
     ]
    }
   ],
   "source": [
    "import os\n",
    "import glob\n",
    "\n",
    "folder_path_in = 'Images\\DallE_Raw'\n",
    "folder_path_in_mask = 'Images\\DallE_Mask'\n",
    "folder_path_out = 'Images\\DallE_Download'\n",
    "\n",
    "# Get all .png files in the folder\n",
    "png_files_in = glob.glob(os.path.join(folder_path_in, '*.png'))\n",
    "png_files_in_mask = [os.path.join(folder_path_in_mask, os.path.basename(file)) for file in png_files_in]\n",
    "png_file_out = [os.path.join(folder_path_out, os.path.basename(file)) for file in png_files_in]\n",
    "\n",
    "prompt = \"A red stop sign on the side of the roadside with houses, cars, and streets in the background\"\n",
    "\n",
    "#loop through masks \n",
    "counter = 0\n",
    "for file_name in png_files_in:\n",
    "    edited_image_url = create_dallE_generated_image(file_name, png_files_in_mask[counter], prompt)\n",
    "    download_image(edited_image_url, png_file_out[counter])\n",
    "    counter = counter + 1\n"
   ]
  }
 ],
 "metadata": {
  "kernelspec": {
   "display_name": "ece5831_project",
   "language": "python",
   "name": "python3"
  },
  "language_info": {
   "codemirror_mode": {
    "name": "ipython",
    "version": 3
   },
   "file_extension": ".py",
   "mimetype": "text/x-python",
   "name": "python",
   "nbconvert_exporter": "python",
   "pygments_lexer": "ipython3",
   "version": "3.11.7"
  }
 },
 "nbformat": 4,
 "nbformat_minor": 2
}
