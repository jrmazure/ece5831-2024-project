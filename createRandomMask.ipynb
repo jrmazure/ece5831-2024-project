{
 "cells": [
  {
   "cell_type": "code",
   "execution_count": 1,
   "metadata": {},
   "outputs": [],
   "source": [
    "# import libraries\n",
    "import numpy as np\n",
    "from PIL import Image"
   ]
  },
  {
   "cell_type": "code",
   "execution_count": 2,
   "metadata": {},
   "outputs": [],
   "source": [
    "def create_random_transparency_mask(image_path, output_path, mask_size_min=100, mask_size_max=150):\n",
    "    \n",
    "    # Open the image\n",
    "    image = Image.open(image_path).convert(\"RGBA\")  # Ensure it's in RGBA mode\n",
    "\n",
    "    # Get image dimensions\n",
    "    width, height = image.size\n",
    "\n",
    "    # generate a mask width and height between potentital sizes\n",
    "    mask_width, mask_height = np.random.randint(mask_size_min, mask_size_max), np.random.randint(mask_size_min, mask_size_max)\n",
    "\n",
    "    # Generate random top-left coordinates for the mask\n",
    "    x_start = np.random.randint(0, width - mask_width)\n",
    "    y_start = np.random.randint(0, height - mask_height)\n",
    "\n",
    "    # Create a new alpha channel based on the original image\n",
    "    alpha_channel = image.split()[-1]  # Get the original alpha channel\n",
    "\n",
    "    # Create a new alpha channel to hold modified values\n",
    "    new_alpha = alpha_channel.copy()\n",
    "\n",
    "    # Set the random region in the new alpha channel to zero (completely transparent)\n",
    "    for y in range(y_start, y_start + mask_height):\n",
    "        for x in range(x_start, x_start + mask_width):\n",
    "            new_alpha.putpixel((x, y), 0)  # Set pixel to fully transparent\n",
    "\n",
    "    # Replace the original alpha channel with the new alpha channel\n",
    "    image.putalpha(new_alpha)\n",
    "\n",
    "    # Save or display the resulting image\n",
    "    image.save(output_path)\n"
   ]
  },
  {
   "cell_type": "code",
   "execution_count": 3,
   "metadata": {},
   "outputs": [
    {
     "data": {
      "text/plain": [
       "['Images\\\\DallE_Raw\\\\d155a0d3-8e9b-49d6-9bc0-fb89b15dccf2-nosign.png',\n",
       " 'Images\\\\DallE_Raw\\\\d4123a75-63b0-4ce8-8f23-1f36ffa05791-nosign.png',\n",
       " 'Images\\\\DallE_Raw\\\\dad31239-e01d-4586-97ed-b5313fb4cf3f-nosign.png',\n",
       " 'Images\\\\DallE_Raw\\\\dc9b9938-8be1-4fab-a81a-a7207ee2603f-nosign.png',\n",
       " 'Images\\\\DallE_Raw\\\\e4df5718-7a9b-4685-8b0a-ce8d4cb762bf-nosign.png',\n",
       " 'Images\\\\DallE_Raw\\\\e6500961-7534-49c7-9d51-1581eadc272b-nosign.png',\n",
       " 'Images\\\\DallE_Raw\\\\f6cfd49d-993e-425b-a679-1ee951064746-nosign.png',\n",
       " 'Images\\\\DallE_Raw\\\\fbd5863f-6414-4f01-9d4d-37977596dda3-nosign.png',\n",
       " 'Images\\\\DallE_Raw\\\\ff70e2b9-541f-4e93-bc1c-042927269ba4-nosign.png']"
      ]
     },
     "execution_count": 3,
     "metadata": {},
     "output_type": "execute_result"
    }
   ],
   "source": [
    "import os\n",
    "import glob\n",
    "\n",
    "# Specify the folder path for in and out\n",
    "folder_path_in = 'Images\\DallE_Raw'\n",
    "folder_path_out = 'Images\\DallE_Mask'\n",
    "\n",
    "# Get all .png files in the folder\n",
    "png_files_in = glob.glob(os.path.join(folder_path_in, '*.png'))\n",
    "png_file_out = [os.path.join(folder_path_out, os.path.basename(file)) for file in png_files_in]"
   ]
  },
  {
   "cell_type": "code",
   "execution_count": 4,
   "metadata": {},
   "outputs": [],
   "source": [
    "#loop through and save masked images to folder\n",
    "counter = 0\n",
    "for file_name in png_files_in:\n",
    "    create_random_transparency_mask(file_name, png_file_out[counter])\n",
    "    counter = counter + 1"
   ]
  }
 ],
 "metadata": {
  "kernelspec": {
   "display_name": "ece5831_project",
   "language": "python",
   "name": "python3"
  },
  "language_info": {
   "codemirror_mode": {
    "name": "ipython",
    "version": 3
   },
   "file_extension": ".py",
   "mimetype": "text/x-python",
   "name": "python",
   "nbconvert_exporter": "python",
   "pygments_lexer": "ipython3",
   "version": "3.11.7"
  }
 },
 "nbformat": 4,
 "nbformat_minor": 2
}
