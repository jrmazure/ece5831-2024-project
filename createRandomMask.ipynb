{
 "cells": [
  {
   "cell_type": "code",
   "execution_count": 1,
   "metadata": {},
   "outputs": [],
   "source": [
    "import numpy as np\n",
    "from PIL import Image"
   ]
  },
  {
   "cell_type": "code",
   "execution_count": 2,
   "metadata": {},
   "outputs": [],
   "source": [
    "def create_random_transparency_mask(image_path, output_path, mask_size=(120, 120)):\n",
    "    # Open the image\n",
    "    image = Image.open(image_path).convert(\"RGBA\")  # Ensure it's in RGBA mode\n",
    "\n",
    "    # Get image dimensions\n",
    "    width, height = image.size\n",
    "\n",
    "    # Ensure mask size is at least 90x90 pixels\n",
    "    mask_width, mask_height = max(mask_size[0], 120), max(mask_size[1], 120)\n",
    "\n",
    "    # Generate random top-left coordinates for the mask\n",
    "    x_start = np.random.randint(0, width - mask_width)\n",
    "    y_start = np.random.randint(0, height - mask_height)\n",
    "\n",
    "    # Create a new alpha channel based on the original image\n",
    "    alpha_channel = image.split()[-1]  # Get the original alpha channel\n",
    "\n",
    "    # Create a new alpha channel to hold modified values\n",
    "    new_alpha = alpha_channel.copy()\n",
    "\n",
    "    # Set the random region in the new alpha channel to zero (completely transparent)\n",
    "    for y in range(y_start, y_start + mask_height):\n",
    "        for x in range(x_start, x_start + mask_width):\n",
    "            new_alpha.putpixel((x, y), 0)  # Set pixel to fully transparent\n",
    "\n",
    "    # Replace the original alpha channel with the new alpha channel\n",
    "    image.putalpha(new_alpha)\n",
    "\n",
    "    # Save or display the resulting image\n",
    "    image.save(output_path)\n",
    "    image.show()  # Display the image\n"
   ]
  },
  {
   "cell_type": "code",
   "execution_count": 3,
   "metadata": {},
   "outputs": [],
   "source": [
    "# Example usage\n",
    "create_random_transparency_mask(\"orig.png\", \"testoutput.png\")"
   ]
  }
 ],
 "metadata": {
  "kernelspec": {
   "display_name": "ece5831_project",
   "language": "python",
   "name": "python3"
  },
  "language_info": {
   "codemirror_mode": {
    "name": "ipython",
    "version": 3
   },
   "file_extension": ".py",
   "mimetype": "text/x-python",
   "name": "python",
   "nbconvert_exporter": "python",
   "pygments_lexer": "ipython3",
   "version": "3.11.7"
  }
 },
 "nbformat": 4,
 "nbformat_minor": 2
}
